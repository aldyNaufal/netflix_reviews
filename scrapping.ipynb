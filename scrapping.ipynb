{
 "cells": [
  {
   "cell_type": "markdown",
   "id": "d206f61d",
   "metadata": {},
   "source": [
    "# Proyek Analisis Sentimen \n",
    "- **Nama:** Muhammad Aldy Naufal Fadhilah\n",
    "- **Email:** aldy.naufal02@gmail.com\n",
    "- **ID Dicoding:** aldy_naufal"
   ]
  },
  {
   "cell_type": "markdown",
   "id": "01d360a8",
   "metadata": {},
   "source": [
    "## Install Depedencies"
   ]
  },
  {
   "cell_type": "code",
   "execution_count": 1,
   "id": "13a52e72",
   "metadata": {},
   "outputs": [
    {
     "name": "stdout",
     "output_type": "stream",
     "text": [
      "Requirement already satisfied: google-play-scraper in c:\\users\\fx506\\appdata\\local\\programs\\python\\python311\\lib\\site-packages (1.2.7)\n",
      "Note: you may need to restart the kernel to use updated packages.\n"
     ]
    }
   ],
   "source": [
    "%pip install google-play-scraper"
   ]
  },
  {
   "cell_type": "markdown",
   "id": "40f514b8",
   "metadata": {},
   "source": [
    "Sebelum memulai scraping data, pertama-tama kita perlu menginstal pustaka `google-play-scraper` dengan perintah `%pip install google-play-scraper` di lingkungan notebook seperti Jupyter atau Google Colab. Perintah ini akan mengunduh dan memasang pustaka dari Python Package Index (PyPI) sehingga kita dapat menggunakan fungsinya untuk mengambil berbagai informasi dari Google Play Store secara otomatis, seperti detail aplikasi, rating, jumlah unduhan, hingga ulasan pengguna."
   ]
  },
  {
   "cell_type": "markdown",
   "id": "1e9fe93d",
   "metadata": {},
   "source": [
    "## Import Library"
   ]
  },
  {
   "cell_type": "code",
   "execution_count": 2,
   "id": "4240e1c8",
   "metadata": {},
   "outputs": [],
   "source": [
    "from google_play_scraper import app\n",
    "from google_play_scraper import reviews\n",
    "from google_play_scraper import Sort\n",
    "import pandas as pd"
   ]
  },
  {
   "cell_type": "markdown",
   "id": "046d734a",
   "metadata": {},
   "source": [
    "Selanjutnya, kita perlu mengimpor beberapa fungsi penting dari pustaka `google-play-scraper`, yaitu `app` untuk mengambil detail aplikasi, `reviews` untuk mengambil ulasan pengguna, serta `Sort` untuk mengatur urutan ulasan yang ingin diambil, seperti berdasarkan yang terbaru atau paling relevan; selain itu, pustaka `pandas` juga diimpor untuk membantu mengolah dan menyimpan data hasil scraping dalam bentuk tabel yang rapi dan mudah dianalisis."
   ]
  },
  {
   "cell_type": "markdown",
   "id": "03211c20",
   "metadata": {},
   "source": [
    "## Scrappping Data"
   ]
  },
  {
   "cell_type": "code",
   "execution_count": 3,
   "id": "e0fc8b2a",
   "metadata": {},
   "outputs": [],
   "source": [
    "# URL aplikasi di Google Play Store\n",
    "app_id = 'com.netflix.mediaclient'  # Ganti dengan ID aplikasi yang diinginkan\n",
    "\n",
    "# Ambil informasi aplikasi\n",
    "app_info = app(app_id)\n",
    "\n",
    "# Ambil review aplikasi\n",
    "result, continuation_token = reviews(\n",
    "    app_id,\n",
    "    count=10000,  # Tentukan jumlah review yang ingin diambil\n",
    "    sort=Sort.NEWEST,  # Sort by newest first\n",
    "    lang='en',  # Bahasa review\n",
    "    country='us'  # Negara asal review\n",
    ")\n",
    "\n",
    "# Simpan hasil review ke dalam DataFrame\n",
    "reviews_data = []\n",
    "for review in result:\n",
    "    reviews_data.append({\n",
    "        'Review Text': review['content'],\n",
    "        'Score': review['score'],\n",
    "        'Date': review['at'],\n",
    "        'User': review['userName']\n",
    "    })"
   ]
  },
  {
   "cell_type": "markdown",
   "id": "0502ada5",
   "metadata": {},
   "source": [
    "Pada proses di atas, pertama-tama ditentukan `app_id` yaitu ID aplikasi di Google Play Store—dalam hal ini adalah aplikasi Netflix (`com.netflix.mediaclient`). Kemudian, informasi detail tentang aplikasi tersebut diambil menggunakan fungsi `app()`. Setelah itu, ulasan atau review pengguna diambil menggunakan fungsi `reviews()` dengan parameter seperti jumlah review (`count=10000`), urutan review berdasarkan yang terbaru (`Sort.NEWEST`), bahasa (`lang='en'`), dan negara (`country='us'`). Hasil review yang diperoleh kemudian disimpan dalam bentuk list of dictionary bernama `reviews_data`, di mana setiap review disusun dengan informasi teks ulasan, skor/rating, tanggal ulasan, dan nama pengguna. Data ini nantinya dapat diubah menjadi DataFrame untuk analisis lebih lanjut."
   ]
  },
  {
   "cell_type": "code",
   "execution_count": 4,
   "id": "ea1ec4a0",
   "metadata": {},
   "outputs": [],
   "source": [
    "data = pd.DataFrame(reviews_data)"
   ]
  },
  {
   "cell_type": "markdown",
   "id": "1222645a",
   "metadata": {},
   "source": [
    "Selanjutnya, setelah mendapatkan hasilnya dalam bentuk list of dictionary yang berisi ulasan pengguna, data tersebut kemudian dikonversi menjadi sebuah DataFrame menggunakan `pd.DataFrame(reviews_data)`. Proses ini bertujuan untuk mengubah data mentah menjadi format tabel yang lebih terstruktur dan mudah dianalisis, sehingga setiap kolom merepresentasikan atribut seperti teks ulasan, skor, tanggal, dan nama pengguna, sementara setiap baris merepresentasikan satu entri ulasan. Dengan format DataFrame ini, data dapat dengan mudah difilter, diolah, divisualisasikan, atau disimpan ke file seperti CSV untuk kebutuhan analisis lebih lanjut."
   ]
  },
  {
   "cell_type": "code",
   "execution_count": 5,
   "id": "7977149b",
   "metadata": {},
   "outputs": [
    {
     "name": "stdout",
     "output_type": "stream",
     "text": [
      "✅ 10000 reviews berhasil disimpan.\n"
     ]
    }
   ],
   "source": [
    "# Simpan data ke CSV\n",
    "\n",
    "data.to_csv('data/netflix_reviews.csv', index=False)\n",
    "\n",
    "print(f\"✅ {len(data)} reviews berhasil disimpan.\")"
   ]
  },
  {
   "cell_type": "markdown",
   "id": "8f482e82",
   "metadata": {},
   "source": [
    "Terakhir, setelah data ulasan berhasil dikonversi ke dalam bentuk DataFrame, langkah selanjutnya adalah menyimpannya ke dalam file CSV menggunakan perintah `data.to_csv('data/netflix_reviews.csv', index=False)`. File ini akan berisi seluruh ulasan yang telah dikumpulkan, disusun secara rapi dalam format tabel yang bisa dibuka dan dianalisis lebih lanjut menggunakan software seperti Excel, Google Sheets, atau tools analitik lainnya. Argumen `index=False` digunakan agar indeks DataFrame tidak ikut disimpan sebagai kolom di file CSV. Setelah proses penyimpanan selesai, program mencetak pesan konfirmasi yang menunjukkan bahwa sebanyak 10.000 ulasan telah berhasil disimpan."
   ]
  }
 ],
 "metadata": {
  "kernelspec": {
   "display_name": "Python 3",
   "language": "python",
   "name": "python3"
  },
  "language_info": {
   "codemirror_mode": {
    "name": "ipython",
    "version": 3
   },
   "file_extension": ".py",
   "mimetype": "text/x-python",
   "name": "python",
   "nbconvert_exporter": "python",
   "pygments_lexer": "ipython3",
   "version": "3.11.5"
  }
 },
 "nbformat": 4,
 "nbformat_minor": 5
}
